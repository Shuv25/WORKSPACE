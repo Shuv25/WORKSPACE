{
 "cells": [
  {
   "cell_type": "code",
   "execution_count": 1,
   "metadata": {},
   "outputs": [],
   "source": [
    "fd=open(\"adPrepossesing.txt\")\n",
    "txt=fd.read()\n",
    "fd.close()"
   ]
  },
  {
   "cell_type": "code",
   "execution_count": 3,
   "metadata": {},
   "outputs": [
    {
     "data": {
      "text/plain": [
       "\"(COVID-19) is a contagious disease caused by a virus, the severe acute respiratory syndrome coronavirus\\n2 (SARS-CoV-2). The first known case was identified in Wuhan, China, in December 2019.[7] The disease \\nspread worldwide, leading to the COVID-19 pandemic.[8]\\n\\nSymptoms of COVID-19 are variable, but often include fever,[9] cough, headache,[10] fatigue, breathing \\ndifficulties, loss of smell, and loss of taste.[11][12][13] Symptoms may begin one to fourteen days after\\nexposure to the virus. At least a third of people who are infected do not develop noticeable symptoms.[14]\\nOf those people who develop symptoms noticeable enough to be classed as patients, most (81%) develop mild \\nto moderate symptoms (up to mild pneumonia), while 14% develop severe symptoms (dyspnea, hypoxia, or more \\nthan 50% lung involvement on imaging), and 5% develop critical symptoms (respiratory failure, shock, or \\nmultiorgan dysfunction).[15] Older people are at a higher risk of developing severe symptoms. Some people \\ncontinue to experience a range of effects (long COVID) for months after recovery, and damage to organs has \\nbeen observed.[16] Multi-year studies are underway to further investigate the long-term effects of the disease.[16]\\n\\nCOVID-19 transmits when people breathe in air contaminated by droplets and small airborne particles containing \\nthe virus. The risk of breathing these in is highest when people are in close proximity, but they can be inhaled \\nover longer distances, particularly indoors. Transmission can also occur if splashed or sprayed with contaminated \\nfluids in the eyes, nose or mouth, and, rarely, via contaminated surfaces. People remain contagious for up to 20 days, \\nand can spread the virus even if they do not develop symptoms.[17][18]\\n\\nSeveral COVID-19 testing methods have been developed to diagnose the disease. The standard diagnostic method is by \\ndetection of the virus's nucleic acid by real-time reverse transcription polymerase chain reaction (rRT-PCR), \\ntranscription-mediated amplification (TMA), or by reverse transcription loop-mediated isothermal amplification \\n(RT-LAMP) from a nasopharyngeal swab.\""
      ]
     },
     "execution_count": 3,
     "metadata": {},
     "output_type": "execute_result"
    }
   ],
   "source": [
    "txt"
   ]
  },
  {
   "cell_type": "code",
   "execution_count": 4,
   "metadata": {},
   "outputs": [
    {
     "name": "stdout",
     "output_type": "stream",
     "text": [
      "(COVID-19) is a contagious disease caused by a virus, the severe acute respiratory syndrome coronavirus\n",
      "2 (SARS-CoV-2). The first known case was identified in Wuhan, China, in December 2019.[7] The disease \n",
      "spread worldwide, leading to the COVID-19 pandemic.[8]\n",
      "\n",
      "Symptoms of COVID-19 are variable, but often include fever,[9] cough, headache,[10] fatigue, breathing \n",
      "difficulties, loss of smell, and loss of taste.[11][12][13] Symptoms may begin one to fourteen days after\n",
      "exposure to the virus. At least a third of people who are infected do not develop noticeable symptoms.[14]\n",
      "Of those people who develop symptoms noticeable enough to be classed as patients, most (81%) develop mild \n",
      "to moderate symptoms (up to mild pneumonia), while 14% develop severe symptoms (dyspnea, hypoxia, or more \n",
      "than 50% lung involvement on imaging), and 5% develop critical symptoms (respiratory failure, shock, or \n",
      "multiorgan dysfunction).[15] Older people are at a higher risk of developing severe symptoms. Some people \n",
      "continue to experience a range of effects (long COVID) for months after recovery, and damage to organs has \n",
      "been observed.[16] Multi-year studies are underway to further investigate the long-term effects of the disease.[16]\n",
      "\n",
      "COVID-19 transmits when people breathe in air contaminated by droplets and small airborne particles containing \n",
      "the virus. The risk of breathing these in is highest when people are in close proximity, but they can be inhaled \n",
      "over longer distances, particularly indoors. Transmission can also occur if splashed or sprayed with contaminated \n",
      "fluids in the eyes, nose or mouth, and, rarely, via contaminated surfaces. People remain contagious for up to 20 days, \n",
      "and can spread the virus even if they do not develop symptoms.[17][18]\n",
      "\n",
      "Several COVID-19 testing methods have been developed to diagnose the disease. The standard diagnostic method is by \n",
      "detection of the virus's nucleic acid by real-time reverse transcription polymerase chain reaction (rRT-PCR), \n",
      "transcription-mediated amplification (TMA), or by reverse transcription loop-mediated isothermal amplification \n",
      "(RT-LAMP) from a nasopharyngeal swab.\n"
     ]
    }
   ],
   "source": [
    "print(txt)"
   ]
  },
  {
   "cell_type": "markdown",
   "metadata": {},
   "source": [
    "For removing number and brackets"
   ]
  },
  {
   "cell_type": "code",
   "execution_count": 5,
   "metadata": {},
   "outputs": [
    {
     "name": "stdout",
     "output_type": "stream",
     "text": [
      "(COVID-19) is a contagious disease caused by a virus, the severe acute respiratory syndrome coronavirus\n",
      "2 (SARS-CoV-2). The first known case was identified in Wuhan, China, in December 2019. The disease \n",
      "spread worldwide, leading to the COVID-19 pandemic.\n",
      "\n",
      "Symptoms of COVID-19 are variable, but often include fever, cough, headache, fatigue, breathing \n",
      "difficulties, loss of smell, and loss of taste. Symptoms may begin one to fourteen days after\n",
      "exposure to the virus. At least a third of people who are infected do not develop noticeable symptoms.\n",
      "Of those people who develop symptoms noticeable enough to be classed as patients, most (81%) develop mild \n",
      "to moderate symptoms (up to mild pneumonia), while 14% develop severe symptoms (dyspnea, hypoxia, or more \n",
      "than 50% lung involvement on imaging), and 5% develop critical symptoms (respiratory failure, shock, or \n",
      "multiorgan dysfunction). Older people are at a higher risk of developing severe symptoms. Some people \n",
      "continue to experience a range of effects (long COVID) for months after recovery, and damage to organs has \n",
      "been observed. Multi-year studies are underway to further investigate the long-term effects of the disease.\n",
      "\n",
      "COVID-19 transmits when people breathe in air contaminated by droplets and small airborne particles containing \n",
      "the virus. The risk of breathing these in is highest when people are in close proximity, but they can be inhaled \n",
      "over longer distances, particularly indoors. Transmission can also occur if splashed or sprayed with contaminated \n",
      "fluids in the eyes, nose or mouth, and, rarely, via contaminated surfaces. People remain contagious for up to 20 days, \n",
      "and can spread the virus even if they do not develop symptoms.\n",
      "\n",
      "Several COVID-19 testing methods have been developed to diagnose the disease. The standard diagnostic method is by \n",
      "detection of the virus's nucleic acid by real-time reverse transcription polymerase chain reaction (rRT-PCR), \n",
      "transcription-mediated amplification (TMA), or by reverse transcription loop-mediated isothermal amplification \n",
      "(RT-LAMP) from a nasopharyngeal swab.\n"
     ]
    }
   ],
   "source": [
    "for i in range(7,19):\n",
    "    pattern=\"[\"+str(i)+\"]\"\n",
    "    txt=txt.replace(pattern,\"\")\n",
    "print(txt)"
   ]
  },
  {
   "cell_type": "markdown",
   "metadata": {},
   "source": [
    "For removing  special characters"
   ]
  },
  {
   "cell_type": "code",
   "execution_count": 7,
   "metadata": {},
   "outputs": [
    {
     "name": "stdout",
     "output_type": "stream",
     "text": [
      "(COVID-19) is a contagious disease caused by a virus, the severe acute respiratory syndrome coronavirus\n",
      "2 (SARS-CoV-2). The first known case was identified in Wuhan, China, in December 2019. The disease \n",
      "spread worldwide, leading to the COVID-19 pandemic.\n",
      "\n",
      "Symptoms of COVID-19 are variable, but often include fever, cough, headache, fatigue, breathing \n",
      "difficulties, loss of smell, and loss of taste. Symptoms may begin one to fourteen days after\n",
      "exposure to the virus. At least a third of people who are infected do not develop noticeable symptoms.\n",
      "Of those people who develop symptoms noticeable enough to be classed as patients, most (81) develop mild \n",
      "to moderate symptoms (up to mild pneumonia), while 14 develop severe symptoms (dyspnea, hypoxia, or more \n",
      "than 50 lung involvement on imaging), and 5 develop critical symptoms (respiratory failure, shock, or \n",
      "multiorgan dysfunction). Older people are at a higher risk of developing severe symptoms. Some people \n",
      "continue to experience a range of effects (long COVID) for months after recovery, and damage to organs has \n",
      "been observed. Multi-year studies are underway to further investigate the long-term effects of the disease.\n",
      "\n",
      "COVID-19 transmits when people breathe in air contaminated by droplets and small airborne particles containing \n",
      "the virus. The risk of breathing these in is highest when people are in close proximity, but they can be inhaled \n",
      "over longer distances, particularly indoors. Transmission can also occur if splashed or sprayed with contaminated \n",
      "fluids in the eyes, nose or mouth, and, rarely, via contaminated surfaces. People remain contagious for up to 20 days, \n",
      "and can spread the virus even if they do not develop symptoms.\n",
      "\n",
      "Several COVID-19 testing methods have been developed to diagnose the disease. The standard diagnostic method is by \n",
      "detection of the virus's nucleic acid by real-time reverse transcription polymerase chain reaction (rRT-PCR), \n",
      "transcription-mediated amplification (TMA), or by reverse transcription loop-mediated isothermal amplification \n",
      "(RT-LAMP) from a nasopharyngeal swab.\n"
     ]
    }
   ],
   "source": [
    "for i in \"!@#$%^&*\":\n",
    "    txt=txt.replace(i,\"\")\n",
    "print(txt)"
   ]
  }
 ],
 "metadata": {
  "interpreter": {
   "hash": "63963b3f4c440940f0b94a3100916033a226cb4f45979123153792d60aa56d6a"
  },
  "kernelspec": {
   "display_name": "Python 3.10.4 64-bit",
   "language": "python",
   "name": "python3"
  },
  "language_info": {
   "codemirror_mode": {
    "name": "ipython",
    "version": 3
   },
   "file_extension": ".py",
   "mimetype": "text/x-python",
   "name": "python",
   "nbconvert_exporter": "python",
   "pygments_lexer": "ipython3",
   "version": "3.10.4"
  },
  "orig_nbformat": 4
 },
 "nbformat": 4,
 "nbformat_minor": 2
}
