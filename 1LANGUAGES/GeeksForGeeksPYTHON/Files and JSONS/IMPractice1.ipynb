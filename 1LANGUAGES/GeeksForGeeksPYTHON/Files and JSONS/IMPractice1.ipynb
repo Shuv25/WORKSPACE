{
 "cells": [
  {
   "cell_type": "code",
   "execution_count": 1,
   "metadata": {},
   "outputs": [],
   "source": [
    "fd=open(\"IMPraactice1.txt\",\"w\")#This code is to write the product details\n",
    "fd.close()"
   ]
  },
  {
   "cell_type": "code",
   "execution_count": 8,
   "metadata": {},
   "outputs": [
    {
     "name": "stdout",
     "output_type": "stream",
     "text": [
      "1,Dell,70000,0\n",
      "2,HP,50000,0\n",
      "3,Samsung,100000,0\n",
      "4,Mac,100000,0\n",
      "Soryy we are out of stock of Mac\n"
     ]
    }
   ],
   "source": [
    "import time\n",
    "fd=open(\"IMPraactice1.txt\")#This code is to read the product details\n",
    "products=fd.read().split(\"\\n\")#sliting the products consdering new line\n",
    "fd.close()\n",
    "\n",
    "for product in products:\n",
    "    print(product)#printing the products\n",
    "\n",
    "UserName=input(\"Enter your name:\")\n",
    "UserPhNum=input(\"Enter your phone number\")\n",
    "UserMail=input(\"Enter your mail:\")\n",
    "itemID=input(\"Enter the item ID you want to purchase:\")#taking user input \n",
    "ItemQuantity=input(\"Enter the quantity of your purchase:\")#taking user input\n",
    "Updated_product_list=[]#creating new list for storing the product details\n",
    "for product in products:\n",
    "    productDetails=product.split(\",\")#spliting the products conidering comma(,) \n",
    "    if productDetails[0]==itemID:\n",
    "        if (int(ItemQuantity)<=int(productDetails[3])):\n",
    "            print(\"-----------------------------------------------------------\")\n",
    "            print(\"Product name                  :\",productDetails[1])\n",
    "            print(\"Product price                 :\",productDetails[2],\"Rs\")\n",
    "            print(\"Product quantity              :\",ItemQuantity)\n",
    "            print(\"------------------------------------------------------------\")\n",
    "            print(\"Billing Amount                :\",int(productDetails[2])*int(ItemQuantity),\"Rs\")\n",
    "            print(\"------------------------------------------------------------\")\n",
    "            productDetails[3]=str(int(productDetails[3])-int(ItemQuantity))\n",
    "            print(\"Tank you for your purchase, Please visit again\")\n",
    "            fd=open(\"IMPracticeSales.txt\",\"a\")\n",
    "            sales_details=\"Name:\"+UserName+\",\"+\"Phone No:\"+UserPhNum+\",\"+\"Mail:\"+UserMail+\",\"+\"Product Name:\"+productDetails[1]+\",\"+\"Product Quantity:\"+ItemQuantity+\",\"+\"Total Price:\"+str(int(productDetails[2])*int(ItemQuantity))+\",\"+\"Date and Time:\"+time.ctime()+\"\\n\"\n",
    "            fd.write(sales_details)\n",
    "            fd.close()\n",
    "        elif (productDetails[3] == '0'):\n",
    "            print(\"Soryy we are out of stock of\", productDetails[1])\n",
    "        else:\n",
    "            print(\"Sorry we are not having that much\",productDetails[1])\n",
    "            print(\"Would you like to buy\",productDetails[3],productDetails[1])\n",
    "            ch=input(\"Press Y/N -\")\n",
    "            if (ch=='Y' or ch=='y'):\n",
    "                print(\"-----------------------------------------------------------\")\n",
    "                print(\"Product name                  :\",productDetails[1])\n",
    "                print(\"Product price                 :\",productDetails[2],\"Rs\")\n",
    "                print(\"Product quantity              :\",productDetails[3])\n",
    "                print(\"------------------------------------------------------------\")\n",
    "                print(\"Billing Amount                :\",int(productDetails[2])*int(productDetails[3]),\"Rs\")\n",
    "                print(\"------------------------------------------------------------\")\n",
    "                print(\"Thank you visit again\")\n",
    "                fd=open(\"IMPracticeSales.txt\",\"a\")\n",
    "                sales_details=\"Name:\"+UserName+\",\"+\"Phone No:\"+UserPhNum+\",\"+\"Mail:\"+UserMail+\",\"+\"Product Name:\"+productDetails[1]+\",\"+\"Product Quantity:\"+ItemQuantity+\",\"+\"Total Price:\"+str(int(productDetails[2])*int(productDetails[3]))+\",\"+\"Date and Time:\"+time.ctime()+\"\\n\"\n",
    "                fd.write(sales_details)\n",
    "                fd.close()\n",
    "                productDetails[3]='0'\n",
    "            \n",
    "            if(ch=='N' or ch=='n'):\n",
    "                \n",
    "                print(\"Thank you, visit again\")\n",
    "    \n",
    "    Updated_product_list.append(productDetails) #storing the product details in updated_prouct_list\n",
    "\n",
    "l=[]#create a new list l\n",
    "\n",
    "for i in Updated_product_list:  \n",
    "    product=i[0]+\",\"+i[1]+\",\"+i[2]+\",\"+i[3]+\"\\n\"\n",
    "    l.append(product)#storing the Updated_product_list details in list l\n",
    "\n",
    "l[-1]=l[-1][:-1]#removing the \\n in last \n",
    "\n",
    "fd=open(\"IMPraactice1.txt\",\"w\")\n",
    "for i in l:\n",
    "    fd.write(i)#over write the old details with new details becasue we have to update after every purchase\n",
    "\n",
    "fd.close()\n"
   ]
  },
  {
   "cell_type": "code",
   "execution_count": null,
   "metadata": {},
   "outputs": [],
   "source": [
    "\n"
   ]
  }
 ],
 "metadata": {
  "kernelspec": {
   "display_name": "Python 3",
   "language": "python",
   "name": "python3"
  },
  "language_info": {
   "codemirror_mode": {
    "name": "ipython",
    "version": 3
   },
   "file_extension": ".py",
   "mimetype": "text/x-python",
   "name": "python",
   "nbconvert_exporter": "python",
   "pygments_lexer": "ipython3",
   "version": "3.11.1 (tags/v3.11.1:a7a450f, Dec  6 2022, 19:58:39) [MSC v.1934 64 bit (AMD64)]"
  },
  "orig_nbformat": 4,
  "vscode": {
   "interpreter": {
    "hash": "b98f472bb8ba48098397e3b897b5be76f7bf0e62d98845cdb0e8066dc5677259"
   }
  }
 },
 "nbformat": 4,
 "nbformat_minor": 2
}
