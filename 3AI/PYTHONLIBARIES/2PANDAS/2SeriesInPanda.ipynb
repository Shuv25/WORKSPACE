{
 "cells": [
  {
   "cell_type": "code",
   "execution_count": 1,
   "metadata": {},
   "outputs": [],
   "source": [
    "import pandas as pd"
   ]
  },
  {
   "cell_type": "code",
   "execution_count": 4,
   "metadata": {},
   "outputs": [
    {
     "name": "stdout",
     "output_type": "stream",
     "text": [
      "0    3\n",
      "1    4\n",
      "2    5\n",
      "3    6\n",
      "4    7\n",
      "5    8\n",
      "6    9\n",
      "dtype: int64\n"
     ]
    },
    {
     "data": {
      "text/plain": [
       "pandas.core.series.Series"
      ]
     },
     "execution_count": 4,
     "metadata": {},
     "output_type": "execute_result"
    }
   ],
   "source": [
    "l=[3,4,5,6,7,8,9]\n",
    "s=pd.Series(l)#pd.Series is used to create a series\n",
    "print(s)\n",
    "type(s)"
   ]
  },
  {
   "cell_type": "code",
   "execution_count": 5,
   "metadata": {},
   "outputs": [
    {
     "name": "stdout",
     "output_type": "stream",
     "text": [
      "8\n"
     ]
    }
   ],
   "source": [
    "print(s[5])#we can access throgh index also"
   ]
  },
  {
   "cell_type": "code",
   "execution_count": 6,
   "metadata": {},
   "outputs": [
    {
     "name": "stdout",
     "output_type": "stream",
     "text": [
      "a    3\n",
      "b    4\n",
      "c    5\n",
      "d    6\n",
      "e    7\n",
      "f    8\n",
      "g    9\n",
      "dtype: int64\n"
     ]
    }
   ],
   "source": [
    "s2=pd.Series(l,index=['a','b','c','d','e','f','g'])#we can change the value of indexes also\n",
    "print(s2)"
   ]
  },
  {
   "cell_type": "code",
   "execution_count": 7,
   "metadata": {},
   "outputs": [
    {
     "name": "stdout",
     "output_type": "stream",
     "text": [
      "0    3.0\n",
      "1    4.0\n",
      "2    5.0\n",
      "3    6.0\n",
      "4    7.0\n",
      "5    8.0\n",
      "6    9.0\n",
      "Name: Third Series, dtype: float64\n"
     ]
    }
   ],
   "source": [
    "s3=pd.Series(l,dtype='float',name=\"Third Series\")#we can change the name ans typr also\n",
    "print(s3)"
   ]
  },
  {
   "cell_type": "code",
   "execution_count": 9,
   "metadata": {},
   "outputs": [
    {
     "name": "stdout",
     "output_type": "stream",
     "text": [
      "{'Name': ['CPP', 'Java', 'Python'], 'Rank': [3, 2, 1], 'Pos': [1, 2, 3]}\n",
      "Name    [CPP, Java, Python]\n",
      "Rank              [3, 2, 1]\n",
      "Pos               [1, 2, 3]\n",
      "dtype: object\n"
     ]
    }
   ],
   "source": [
    "dic={\"Name\":['CPP','Java','Python'],\"Rank\":[3,2,1],\"Pos\":[1,2,3]}\n",
    "print(dic)\n",
    "s4=pd.Series(dic)\n",
    "print(s4)"
   ]
  },
  {
   "cell_type": "code",
   "execution_count": 10,
   "metadata": {},
   "outputs": [
    {
     "name": "stdout",
     "output_type": "stream",
     "text": [
      "0    15\n",
      "dtype: int64\n"
     ]
    }
   ],
   "source": [
    "s5=pd.Series(15)#we can create a series using one value\n",
    "print(s5)"
   ]
  },
  {
   "cell_type": "code",
   "execution_count": 12,
   "metadata": {},
   "outputs": [
    {
     "name": "stdout",
     "output_type": "stream",
     "text": [
      "1    15\n",
      "2    15\n",
      "3    15\n",
      "4    15\n",
      "5    15\n",
      "6    15\n",
      "dtype: int64\n"
     ]
    }
   ],
   "source": [
    "s6=pd.Series(15,index=[1,2,3,4,5,6])#we can use same element in multiple indexes also\n",
    "print(s6)"
   ]
  },
  {
   "cell_type": "code",
   "execution_count": 16,
   "metadata": {},
   "outputs": [
    {
     "name": "stdout",
     "output_type": "stream",
     "text": [
      "0     2.0\n",
      "1     4.0\n",
      "2     6.0\n",
      "3     8.0\n",
      "4    10.0\n",
      "5     NaN\n",
      "6     NaN\n",
      "7     NaN\n",
      "8     NaN\n",
      "dtype: float64\n"
     ]
    }
   ],
   "source": [
    "s7=pd.Series([1,2,3,4,5,6,7,8,9])#unlike NumPy, Pandas dont follow broadcasting rule to perform any arithmetic function \n",
    "s8=pd.Series([1,2,3,4,5])\n",
    "print(s7+s8)"
   ]
  }
 ],
 "metadata": {
  "kernelspec": {
   "display_name": "Python 3",
   "language": "python",
   "name": "python3"
  },
  "language_info": {
   "codemirror_mode": {
    "name": "ipython",
    "version": 3
   },
   "file_extension": ".py",
   "mimetype": "text/x-python",
   "name": "python",
   "nbconvert_exporter": "python",
   "pygments_lexer": "ipython3",
   "version": "3.11.1"
  }
 },
 "nbformat": 4,
 "nbformat_minor": 2
}
