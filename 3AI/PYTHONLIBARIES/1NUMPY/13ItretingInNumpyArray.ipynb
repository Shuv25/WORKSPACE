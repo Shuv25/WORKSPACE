{
 "cells": [
  {
   "cell_type": "code",
   "execution_count": 1,
   "metadata": {},
   "outputs": [],
   "source": [
    "import numpy as np"
   ]
  },
  {
   "cell_type": "code",
   "execution_count": 17,
   "metadata": {},
   "outputs": [
    {
     "name": "stdout",
     "output_type": "stream",
     "text": [
      "[3 4 5 6 7 8 9]\n",
      "\n",
      "3 4 5 6 7 8 9 "
     ]
    }
   ],
   "source": [
    "a=np.array([3,4,5,6,7,8,9])\n",
    "print(a)\n",
    "print()\n",
    "for i in a:\n",
    "    print(i,end=\" \")\n"
   ]
  },
  {
   "cell_type": "code",
   "execution_count": 19,
   "metadata": {},
   "outputs": [
    {
     "name": "stdout",
     "output_type": "stream",
     "text": [
      "[[3 4 5]\n",
      " [6 7 8]]\n",
      "\n",
      "3 4 5 \n",
      "6 7 8 \n"
     ]
    }
   ],
   "source": [
    "b=np.array([[3,4,5],[6,7,8]])\n",
    "print(b)\n",
    "print()\n",
    "for i in b:\n",
    "    for j in i:\n",
    "        print(j,end=\" \")\n",
    "    print()"
   ]
  },
  {
   "cell_type": "code",
   "execution_count": 21,
   "metadata": {},
   "outputs": [
    {
     "name": "stdout",
     "output_type": "stream",
     "text": [
      "[[[3 4 5]\n",
      "  [5 6 7]\n",
      "  [7 8 9]]]\n",
      "\n",
      "3 4 5 \n",
      "5 6 7 \n",
      "7 8 9 \n",
      "\n"
     ]
    }
   ],
   "source": [
    "c=np.array([[[3,4,5],[5,6,7],[7,8,9]]])\n",
    "print(c)\n",
    "print()\n",
    "for i in c:\n",
    "    for j in i:\n",
    "        for k in j:\n",
    "            print(k,end=\" \")\n",
    "        print()\n",
    "    print()"
   ]
  },
  {
   "cell_type": "code",
   "execution_count": 22,
   "metadata": {},
   "outputs": [
    {
     "name": "stdout",
     "output_type": "stream",
     "text": [
      "3 4 5 5 6 7 7 8 9 "
     ]
    }
   ],
   "source": [
    "for i in np.nditer(c):#nditer is used to print the values of an multidimensional array without going through multiple loops\n",
    "    print(i,end=\" \")"
   ]
  },
  {
   "cell_type": "code",
   "execution_count": 29,
   "metadata": {},
   "outputs": [
    {
     "name": "stdout",
     "output_type": "stream",
     "text": [
      "b'3'\n",
      "b'4'\n",
      "b'5'\n",
      "b'5'\n",
      "b'6'\n",
      "b'7'\n",
      "b'7'\n",
      "b'8'\n",
      "b'9'\n"
     ]
    }
   ],
   "source": [
    "for i in np.nditer(c,flags=['buffered'],op_dtypes=[\"S\"]):\n",
    "    print(i)"
   ]
  },
  {
   "cell_type": "code",
   "execution_count": 30,
   "metadata": {},
   "outputs": [
    {
     "name": "stdout",
     "output_type": "stream",
     "text": [
      "(0, 0, 0) 3\n",
      "(0, 0, 1) 4\n",
      "(0, 0, 2) 5\n",
      "(0, 1, 0) 5\n",
      "(0, 1, 1) 6\n",
      "(0, 1, 2) 7\n",
      "(0, 2, 0) 7\n",
      "(0, 2, 1) 8\n",
      "(0, 2, 2) 9\n"
     ]
    }
   ],
   "source": [
    "for i,j in np.ndenumerate(c):#to get the index value of the element\n",
    "    print(i,j)"
   ]
  }
 ],
 "metadata": {
  "kernelspec": {
   "display_name": "Python 3",
   "language": "python",
   "name": "python3"
  },
  "language_info": {
   "codemirror_mode": {
    "name": "ipython",
    "version": 3
   },
   "file_extension": ".py",
   "mimetype": "text/x-python",
   "name": "python",
   "nbconvert_exporter": "python",
   "pygments_lexer": "ipython3",
   "version": "3.11.1"
  }
 },
 "nbformat": 4,
 "nbformat_minor": 2
}
