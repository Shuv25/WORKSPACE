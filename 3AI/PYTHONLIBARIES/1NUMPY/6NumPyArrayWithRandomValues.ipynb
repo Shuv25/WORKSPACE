{
 "cells": [
  {
   "cell_type": "code",
   "execution_count": 1,
   "metadata": {},
   "outputs": [],
   "source": [
    "import numpy as np"
   ]
  },
  {
   "cell_type": "markdown",
   "metadata": {},
   "source": [
    "rand(): the function is used to generate a random value between O to I."
   ]
  },
  {
   "cell_type": "code",
   "execution_count": 2,
   "metadata": {},
   "outputs": [
    {
     "name": "stdout",
     "output_type": "stream",
     "text": [
      "[0.48524915 0.37688237 0.5455672  0.12626432]\n"
     ]
    }
   ],
   "source": [
    "var1=np.random.rand(4)#here np.random.rand is used to create and np array with 4 random values\n",
    "print(var1)"
   ]
  },
  {
   "cell_type": "code",
   "execution_count": 3,
   "metadata": {},
   "outputs": [
    {
     "name": "stdout",
     "output_type": "stream",
     "text": [
      "[[0.15904835 0.14408612 0.61202188 0.17759458 0.07823205]\n",
      " [0.62193595 0.09248695 0.65259071 0.08037888 0.08745703]]\n"
     ]
    }
   ],
   "source": [
    "var2=np.random.rand(2,5)#here the dimesion is 2 with 5 rndom values in each dimesion\n",
    "print(var2)"
   ]
  },
  {
   "cell_type": "markdown",
   "metadata": {},
   "source": [
    "randn(): the function is used to generate a random value close to zero. This may return positive or negative numbers as well."
   ]
  },
  {
   "cell_type": "code",
   "execution_count": 4,
   "metadata": {},
   "outputs": [
    {
     "name": "stdout",
     "output_type": "stream",
     "text": [
      "[ 0.8858416  -0.64359021 -1.08952676 -0.45307691 -0.48424654]\n"
     ]
    }
   ],
   "source": [
    "var3=np.random.randn(5)\n",
    "print(var3)"
   ]
  },
  {
   "cell_type": "code",
   "execution_count": 5,
   "metadata": {},
   "outputs": [
    {
     "name": "stdout",
     "output_type": "stream",
     "text": [
      "[[ 0.16440682  0.13692069  1.9862206   0.86691824  1.78030135]\n",
      " [ 1.48881784  1.09847058 -0.58908991  0.10306405  0.25679582]\n",
      " [ 0.75738397 -0.71565441 -0.00218889 -0.28192087  0.64003983]]\n"
     ]
    }
   ],
   "source": [
    "var4=np.random.randn(3,5)\n",
    "print(var4)"
   ]
  },
  {
   "cell_type": "markdown",
   "metadata": {},
   "source": [
    "ranf(): the function for doing random sampling in numpy. It returns an array of specified shape and fills it with random floats in the half-open interval [0.0, 1.0)."
   ]
  },
  {
   "cell_type": "code",
   "execution_count": 6,
   "metadata": {},
   "outputs": [
    {
     "name": "stdout",
     "output_type": "stream",
     "text": [
      "[0.69897861 0.0618909  0.59586951 0.91114529 0.17183595]\n"
     ]
    }
   ],
   "source": [
    "var5=np.random.ranf(5)\n",
    "print(var5)"
   ]
  },
  {
   "cell_type": "markdown",
   "metadata": {},
   "source": [
    "randint( ) : the fuction is used to generate a random number be in a given range."
   ]
  },
  {
   "cell_type": "code",
   "execution_count": 7,
   "metadata": {},
   "outputs": [
    {
     "name": "stdout",
     "output_type": "stream",
     "text": [
      "[3 2 4 4 1 2 4]\n"
     ]
    }
   ],
   "source": [
    "var6=np.random.randint(1,5,7)#here it will create random 7 no's in range of one to five\n",
    "print(var6)"
   ]
  }
 ],
 "metadata": {
  "kernelspec": {
   "display_name": "Python 3",
   "language": "python",
   "name": "python3"
  },
  "language_info": {
   "codemirror_mode": {
    "name": "ipython",
    "version": 3
   },
   "file_extension": ".py",
   "mimetype": "text/x-python",
   "name": "python",
   "nbconvert_exporter": "python",
   "pygments_lexer": "ipython3",
   "version": "3.11.1"
  }
 },
 "nbformat": 4,
 "nbformat_minor": 2
}
