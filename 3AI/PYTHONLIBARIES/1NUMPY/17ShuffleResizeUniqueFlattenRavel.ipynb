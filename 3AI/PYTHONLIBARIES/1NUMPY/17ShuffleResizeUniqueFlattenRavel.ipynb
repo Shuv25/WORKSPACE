{
 "cells": [
  {
   "cell_type": "code",
   "execution_count": 2,
   "metadata": {},
   "outputs": [],
   "source": [
    "import numpy as np"
   ]
  },
  {
   "cell_type": "markdown",
   "metadata": {},
   "source": [
    "Shuffle"
   ]
  },
  {
   "cell_type": "code",
   "execution_count": 4,
   "metadata": {},
   "outputs": [
    {
     "name": "stdout",
     "output_type": "stream",
     "text": [
      "[3 4 5 6 7 8 9]\n",
      "[6 7 3 9 8 4 5]\n"
     ]
    }
   ],
   "source": [
    "a=np.array([3,4,5,6,7,8,9])\n",
    "print(a)\n",
    "np.random.shuffle(a)#it will shuffle the array\n",
    "print(a)"
   ]
  },
  {
   "cell_type": "markdown",
   "metadata": {},
   "source": [
    "Unique"
   ]
  },
  {
   "cell_type": "code",
   "execution_count": 6,
   "metadata": {},
   "outputs": [
    {
     "name": "stdout",
     "output_type": "stream",
     "text": [
      "[ 3  3  4  5  4  6  7  7  8  8  8  8 89  9  9]\n",
      "[ 3  4  5  6  7  8  9 89]\n"
     ]
    }
   ],
   "source": [
    "b=np.array([3,3,4,5,4,6,7,7,8,8,8,8,89,9,9])\n",
    "print(b)\n",
    "c=np.unique(b)#it will remove the duplicate values\n",
    "print(c)"
   ]
  },
  {
   "cell_type": "code",
   "execution_count": 8,
   "metadata": {},
   "outputs": [
    {
     "name": "stdout",
     "output_type": "stream",
     "text": [
      "(array([ 3,  4,  5,  6,  7,  8,  9, 89]), array([ 0,  2,  3,  5,  6,  8, 13, 12], dtype=int64), array([2, 2, 1, 1, 2, 4, 2, 1], dtype=int64))\n"
     ]
    }
   ],
   "source": [
    "d=np.unique(b,return_index=True,return_counts=True)#it not only will remove the duplicate values also return the index of thr duplicate elements and their counts\n",
    "print(d)"
   ]
  },
  {
   "cell_type": "markdown",
   "metadata": {},
   "source": [
    "Resize"
   ]
  },
  {
   "cell_type": "code",
   "execution_count": 9,
   "metadata": {},
   "outputs": [
    {
     "name": "stdout",
     "output_type": "stream",
     "text": [
      "[[6 7 3]\n",
      " [9 8 4]]\n"
     ]
    }
   ],
   "source": [
    "e=np.resize(a,(2,3))\n",
    "print(e)"
   ]
  },
  {
   "cell_type": "markdown",
   "metadata": {},
   "source": [
    "Flatten"
   ]
  },
  {
   "cell_type": "code",
   "execution_count": 12,
   "metadata": {},
   "outputs": [
    {
     "name": "stdout",
     "output_type": "stream",
     "text": [
      "[[6 7 3]\n",
      " [9 8 4]]\n",
      "[6 7 3 9 8 4]\n"
     ]
    }
   ],
   "source": [
    "print(e)\n",
    "print(e.flatten())#to convert an two dimensional array to one dimesional array"
   ]
  },
  {
   "cell_type": "code",
   "execution_count": 20,
   "metadata": {},
   "outputs": [
    {
     "name": "stdout",
     "output_type": "stream",
     "text": [
      "[[6 7 3]\n",
      " [9 8 4]]\n",
      "[6 7 3 9 8 4 5]\n"
     ]
    }
   ],
   "source": [
    "print(e)\n",
    "print(a.flatten(order=\"F\"))"
   ]
  },
  {
   "cell_type": "code",
   "execution_count": 21,
   "metadata": {},
   "outputs": [
    {
     "name": "stdout",
     "output_type": "stream",
     "text": [
      "[6 7 3 9 8 4 5]\n"
     ]
    }
   ],
   "source": [
    "print(e.flatten(order=\"A\"))"
   ]
  },
  {
   "cell_type": "code",
   "execution_count": 22,
   "metadata": {},
   "outputs": [
    {
     "name": "stdout",
     "output_type": "stream",
     "text": [
      "[6 7 3 9 8 4 5]\n"
     ]
    }
   ],
   "source": [
    "print(e.flatten(order=\"K\"))"
   ]
  },
  {
   "cell_type": "code",
   "execution_count": 18,
   "metadata": {},
   "outputs": [
    {
     "name": "stdout",
     "output_type": "stream",
     "text": [
      "[6 7 3 9 8 4]\n"
     ]
    }
   ],
   "source": [
    "print(e.flatten(order=\"C\"))"
   ]
  }
 ],
 "metadata": {
  "kernelspec": {
   "display_name": "Python 3",
   "language": "python",
   "name": "python3"
  },
  "language_info": {
   "codemirror_mode": {
    "name": "ipython",
    "version": 3
   },
   "file_extension": ".py",
   "mimetype": "text/x-python",
   "name": "python",
   "nbconvert_exporter": "python",
   "pygments_lexer": "ipython3",
   "version": "3.11.1"
  }
 },
 "nbformat": 4,
 "nbformat_minor": 2
}
