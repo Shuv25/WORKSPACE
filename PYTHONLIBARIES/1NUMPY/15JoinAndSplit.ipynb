{
 "cells": [
  {
   "cell_type": "code",
   "execution_count": 2,
   "metadata": {},
   "outputs": [],
   "source": [
    "import numpy as  np"
   ]
  },
  {
   "cell_type": "code",
   "execution_count": 6,
   "metadata": {},
   "outputs": [
    {
     "name": "stdout",
     "output_type": "stream",
     "text": [
      "[3 4 5 6 6 7 8 9]\n"
     ]
    }
   ],
   "source": [
    "a=np.array([3,4,5,6])\n",
    "b=np.array([6,7,8,9])\n",
    "\n",
    "c=np.concatenate((a,b))#concatenate is used to merge two arrays in one\n",
    "print(c)"
   ]
  },
  {
   "cell_type": "code",
   "execution_count": 8,
   "metadata": {},
   "outputs": [
    {
     "name": "stdout",
     "output_type": "stream",
     "text": [
      "[[3 4 5 8 9 7]\n",
      " [5 6 7 4 5 6]]\n",
      "[[3 4 5]\n",
      " [5 6 7]\n",
      " [8 9 7]\n",
      " [4 5 6]]\n"
     ]
    }
   ],
   "source": [
    "d=np.array([[3,4,5],[5,6,7]])\n",
    "e=np.array([[8,9,7],[4,5,6]])\n",
    "\n",
    "f=np.concatenate((d,e),axis=1)#row wise\n",
    "print(f)\n",
    "g=np.concatenate((d,e),axis=0)#colrow wise\n",
    "print(g)"
   ]
  },
  {
   "cell_type": "code",
   "execution_count": 11,
   "metadata": {},
   "outputs": [
    {
     "name": "stdout",
     "output_type": "stream",
     "text": [
      "[[3 6]\n",
      " [4 7]\n",
      " [5 8]\n",
      " [6 9]]\n"
     ]
    }
   ],
   "source": [
    "h=np.stack((a,b),axis=1)#here i am doing colmn wise but by default stack function is row wise\n",
    "print(h)"
   ]
  },
  {
   "cell_type": "code",
   "execution_count": 13,
   "metadata": {},
   "outputs": [
    {
     "name": "stdout",
     "output_type": "stream",
     "text": [
      "[3 4 5 6 6 7 8 9]\n",
      "[[3 4 5 6]\n",
      " [6 7 8 9]]\n",
      "[[[3 6]\n",
      "  [4 7]\n",
      "  [5 8]\n",
      "  [6 9]]]\n"
     ]
    }
   ],
   "source": [
    "i=np.hstack((a,b))#row wise\n",
    "j=np.vstack((a,b))#col wise\n",
    "k=np.dstack((a,b))#hight wise\n",
    "print(i)\n",
    "print(j)\n",
    "print(k)"
   ]
  },
  {
   "cell_type": "markdown",
   "metadata": {},
   "source": [
    "Split"
   ]
  },
  {
   "cell_type": "code",
   "execution_count": 16,
   "metadata": {},
   "outputs": [
    {
     "name": "stdout",
     "output_type": "stream",
     "text": [
      "[3 4 5 6 7 8]\n",
      "[array([3, 4]), array([5, 6]), array([7, 8])]\n",
      "<class 'list'>\n"
     ]
    }
   ],
   "source": [
    "x=np.array([3,4,5,6,7,8])\n",
    "print(x)\n",
    "\n",
    "y=np.array_split(x,3)#spliting purpose baed on no, and its type is list\n",
    "print(y)\n",
    "print(type(y))"
   ]
  },
  {
   "cell_type": "code",
   "execution_count": 18,
   "metadata": {},
   "outputs": [
    {
     "name": "stdout",
     "output_type": "stream",
     "text": [
      "[[3 4 5]\n",
      " [6 7 8]]\n",
      "[array([[3, 4, 5]]), array([[6, 7, 8]])]\n"
     ]
    }
   ],
   "source": [
    "z=np.array([[3,4,5],[6,7,8]])\n",
    "print(z)\n",
    "p=np.array_split(z,2)\n",
    "print(p)"
   ]
  },
  {
   "cell_type": "code",
   "execution_count": 19,
   "metadata": {},
   "outputs": [
    {
     "name": "stdout",
     "output_type": "stream",
     "text": [
      "[array([[3, 4],\n",
      "       [6, 7]]), array([[5],\n",
      "       [8]])]\n"
     ]
    }
   ],
   "source": [
    "q=np.array_split(z,2,axis=1)\n",
    "print(q)"
   ]
  }
 ],
 "metadata": {
  "kernelspec": {
   "display_name": "Python 3",
   "language": "python",
   "name": "python3"
  },
  "language_info": {
   "codemirror_mode": {
    "name": "ipython",
    "version": 3
   },
   "file_extension": ".py",
   "mimetype": "text/x-python",
   "name": "python",
   "nbconvert_exporter": "python",
   "pygments_lexer": "ipython3",
   "version": "3.11.1"
  }
 },
 "nbformat": 4,
 "nbformat_minor": 2
}
