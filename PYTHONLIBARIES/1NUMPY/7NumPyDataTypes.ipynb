{
 "cells": [
  {
   "cell_type": "code",
   "execution_count": 1,
   "metadata": {},
   "outputs": [],
   "source": [
    "import numpy as np"
   ]
  },
  {
   "cell_type": "code",
   "execution_count": 2,
   "metadata": {},
   "outputs": [
    {
     "name": "stdout",
     "output_type": "stream",
     "text": [
      "[4 5 6 7]\n",
      "int32\n"
     ]
    }
   ],
   "source": [
    "var1=np.array([4,5,6,7])\n",
    "print(var1)\n",
    "print(var1.dtype)#dtpe is used to find the data type"
   ]
  },
  {
   "cell_type": "code",
   "execution_count": 4,
   "metadata": {},
   "outputs": [
    {
     "name": "stdout",
     "output_type": "stream",
     "text": [
      "[4.5 6.7]\n",
      "float64\n"
     ]
    }
   ],
   "source": [
    "var2=np.array([4.5,6.7])\n",
    "print(var2)\n",
    "print(var2.dtype)"
   ]
  },
  {
   "cell_type": "code",
   "execution_count": 5,
   "metadata": {},
   "outputs": [
    {
     "name": "stdout",
     "output_type": "stream",
     "text": [
      "['s' 'h' 'u' 'v']\n",
      "<U1\n"
     ]
    }
   ],
   "source": [
    "var3=np.array(['s','h','u','v'])\n",
    "print(var3)\n",
    "print(var3.dtype)"
   ]
  },
  {
   "cell_type": "code",
   "execution_count": 6,
   "metadata": {},
   "outputs": [
    {
     "name": "stdout",
     "output_type": "stream",
     "text": [
      "['s' 'h' 'u' 'v' '4' '5' '6' '7']\n",
      "<U11\n"
     ]
    }
   ],
   "source": [
    "var4=np.array(['s','h','u','v',4,5,6,7])\n",
    "print(var4)\n",
    "print(var4.dtype)"
   ]
  },
  {
   "cell_type": "markdown",
   "metadata": {},
   "source": [
    "Data Type Converting"
   ]
  },
  {
   "cell_type": "code",
   "execution_count": 8,
   "metadata": {},
   "outputs": [
    {
     "name": "stdout",
     "output_type": "stream",
     "text": [
      "[4 5 6 7]\n",
      "int8\n"
     ]
    }
   ],
   "source": [
    "x=np.array([4,5,6,7],dtype=np.int8)#here i am cpnverting from int 32 to int 8\n",
    "print(x)\n",
    "print(x.dtype)"
   ]
  },
  {
   "cell_type": "code",
   "execution_count": 9,
   "metadata": {},
   "outputs": [
    {
     "name": "stdout",
     "output_type": "stream",
     "text": [
      "[4. 5. 6. 7.]\n",
      "float32\n"
     ]
    }
   ],
   "source": [
    "y=np.array([4,5,6,7],dtype=\"f\")#here i am cpnverting from int 32 to float 32\n",
    "print(y)\n",
    "print(y.dtype)"
   ]
  },
  {
   "cell_type": "code",
   "execution_count": 10,
   "metadata": {},
   "outputs": [
    {
     "name": "stdout",
     "output_type": "stream",
     "text": [
      "[5.6 6.7 7.8]\n",
      "[5 6 7]\n",
      "float64\n",
      "int32\n"
     ]
    }
   ],
   "source": [
    "z=np.array([5.6,6.7,7.8])\n",
    "new=np.int32(z)\n",
    "print(z)\n",
    "print(new)\n",
    "print(z.dtype)\n",
    "print(new.dtype)"
   ]
  },
  {
   "cell_type": "code",
   "execution_count": 18,
   "metadata": {},
   "outputs": [
    {
     "name": "stdout",
     "output_type": "stream",
     "text": [
      "[5.6 6.7 7.8]\n",
      "[5 6 7]\n",
      "float64\n",
      "int32\n"
     ]
    }
   ],
   "source": [
    "d=np.array([5.6,6.7,7.8])\n",
    "neww=d.astype(\"int\")\n",
    "print(d)\n",
    "print(neww)\n",
    "print(d.dtype)\n",
    "print(neww.dtype)"
   ]
  }
 ],
 "metadata": {
  "kernelspec": {
   "display_name": "Python 3",
   "language": "python",
   "name": "python3"
  },
  "language_info": {
   "codemirror_mode": {
    "name": "ipython",
    "version": 3
   },
   "file_extension": ".py",
   "mimetype": "text/x-python",
   "name": "python",
   "nbconvert_exporter": "python",
   "pygments_lexer": "ipython3",
   "version": "3.11.1"
  }
 },
 "nbformat": 4,
 "nbformat_minor": 2
}
