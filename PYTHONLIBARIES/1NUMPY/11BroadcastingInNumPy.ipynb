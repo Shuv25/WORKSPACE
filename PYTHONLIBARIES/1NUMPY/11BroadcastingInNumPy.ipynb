{
 "cells": [
  {
   "cell_type": "code",
   "execution_count": 1,
   "metadata": {},
   "outputs": [],
   "source": [
    "import numpy as np"
   ]
  },
  {
   "cell_type": "code",
   "execution_count": 5,
   "metadata": {},
   "outputs": [
    {
     "name": "stdout",
     "output_type": "stream",
     "text": [
      "(3,)\n",
      "(3, 1)\n",
      "[[12 13 14]\n",
      " [10 11 12]\n",
      " [11 12 13]]\n"
     ]
    }
   ],
   "source": [
    "a=np.array([3,4,5])\n",
    "print(a.shape)\n",
    "b=np.array([[9],[7],[8]])\n",
    "print(b.shape)\n",
    "add=a+b\n",
    "print(add)"
   ]
  },
  {
   "cell_type": "code",
   "execution_count": 10,
   "metadata": {},
   "outputs": [
    {
     "name": "stdout",
     "output_type": "stream",
     "text": [
      "(2, 3)\n",
      "(3,)\n",
      "[[11 22 33]\n",
      " [14 25 36]]\n",
      "(2, 3)\n"
     ]
    }
   ],
   "source": [
    "x = np.array([[1, 2, 3], [4, 5, 6]])\n",
    "y = np.array([10, 20, 30])\n",
    "nadd=x+y\n",
    "print(x.shape)\n",
    "print(y.shape)\n",
    "print(nadd)\n",
    "print(nadd.shape)"
   ]
  },
  {
   "cell_type": "markdown",
   "metadata": {},
   "source": [
    "The rule is simple between the two array's compare the element of both array from right side check if there is one in one of the array if yes then it will perform arithmetic or check if any of the elements is same in both the array for example if 3x1 is shape of an array and 3x3is a shape of another array here if we compare from the right side there is 1 and 3 and 3 is same on ther two so it will work"
   ]
  },
  {
   "cell_type": "code",
   "execution_count": 15,
   "metadata": {},
   "outputs": [
    {
     "name": "stdout",
     "output_type": "stream",
     "text": [
      "(3,)\n",
      "(1, 3, 3)\n",
      "[3 4 5]\n",
      "[[[3 4 5]\n",
      "  [5 6 7]\n",
      "  [7 8 9]]]\n",
      "[[[ 6  8 10]\n",
      "  [ 8 10 12]\n",
      "  [10 12 14]]]\n"
     ]
    }
   ],
   "source": [
    "p=np.array([3,4,5])\n",
    "print(p.shape)\n",
    "q=np.array([[[3,4,5],[5,6,7],[7,8,9]]])\n",
    "print(q.shape)\n",
    "print(p)\n",
    "print(q)\n",
    "r=p+q\n",
    "print(r)"
   ]
  }
 ],
 "metadata": {
  "kernelspec": {
   "display_name": "Python 3",
   "language": "python",
   "name": "python3"
  },
  "language_info": {
   "codemirror_mode": {
    "name": "ipython",
    "version": 3
   },
   "file_extension": ".py",
   "mimetype": "text/x-python",
   "name": "python",
   "nbconvert_exporter": "python",
   "pygments_lexer": "ipython3",
   "version": "3.11.1"
  }
 },
 "nbformat": 4,
 "nbformat_minor": 2
}
