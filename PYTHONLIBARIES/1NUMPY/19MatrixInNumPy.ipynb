{
 "cells": [
  {
   "cell_type": "code",
   "execution_count": 1,
   "metadata": {},
   "outputs": [],
   "source": [
    "import numpy as np"
   ]
  },
  {
   "cell_type": "code",
   "execution_count": 10,
   "metadata": {},
   "outputs": [
    {
     "name": "stdout",
     "output_type": "stream",
     "text": [
      "[[3 4 5]\n",
      " [6 7 8]\n",
      " [9 0 3]]\n",
      "int32\n",
      "<class 'numpy.ndarray'>\n",
      "\n"
     ]
    }
   ],
   "source": [
    "a=np.array([[3,4,5],[6,7,8],[9,0,3]])\n",
    "print(a)\n",
    "print(a.dtype)\n",
    "print(type(a))\n",
    "print()"
   ]
  },
  {
   "cell_type": "code",
   "execution_count": 15,
   "metadata": {},
   "outputs": [
    {
     "name": "stdout",
     "output_type": "stream",
     "text": [
      "[[3 4 5]\n",
      " [6 7 8]\n",
      " [9 0 3]]\n",
      "int32\n",
      "<class 'numpy.matrix'>\n",
      "\n",
      "[[3 4 5]\n",
      " [6 7 8]\n",
      " [9 0 3]]\n",
      "\n",
      "[[ 6  8 10]\n",
      " [12 14 16]\n",
      " [18  0  6]]\n",
      "\n",
      "[[0 0 0]\n",
      " [0 0 0]\n",
      " [0 0 0]]\n",
      "\n",
      "[[ 78  40  62]\n",
      " [132  73 110]\n",
      " [ 54  36  54]]\n",
      "\n",
      "[[ 78  40  62]\n",
      " [132  73 110]\n",
      " [ 54  36  54]]\n"
     ]
    }
   ],
   "source": [
    "b=np.matrix([[3,4,5],[6,7,8],[9,0,3]])\n",
    "print(b)\n",
    "print(b.dtype)\n",
    "print(type(b))\n",
    "print()\n",
    "c=np.matrix([[3,4,5],[6,7,8],[9,0,3]])\n",
    "print(b)\n",
    "d=b+c\n",
    "print()\n",
    "print(d)\n",
    "d=b-c\n",
    "print()\n",
    "print(d)\n",
    "d=b*c\n",
    "print()\n",
    "print(d)\n",
    "print()\n",
    "print(b.dot(c))"
   ]
  }
 ],
 "metadata": {
  "kernelspec": {
   "display_name": "Python 3",
   "language": "python",
   "name": "python3"
  },
  "language_info": {
   "codemirror_mode": {
    "name": "ipython",
    "version": 3
   },
   "file_extension": ".py",
   "mimetype": "text/x-python",
   "name": "python",
   "nbconvert_exporter": "python",
   "pygments_lexer": "ipython3",
   "version": "3.11.1"
  }
 },
 "nbformat": 4,
 "nbformat_minor": 2
}
