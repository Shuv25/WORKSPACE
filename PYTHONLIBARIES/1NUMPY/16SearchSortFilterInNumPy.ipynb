{
 "cells": [
  {
   "cell_type": "code",
   "execution_count": 1,
   "metadata": {},
   "outputs": [],
   "source": [
    "import numpy as np"
   ]
  },
  {
   "cell_type": "code",
   "execution_count": 4,
   "metadata": {},
   "outputs": [
    {
     "name": "stdout",
     "output_type": "stream",
     "text": [
      "(array([1, 2], dtype=int64),)\n"
     ]
    }
   ],
   "source": [
    "a=np.array([3,4,4,5,7,9,5,6,7,8,9])\n",
    "x=np.where(a==4)#where is used to find the indexes of element\n",
    "print(x)"
   ]
  },
  {
   "cell_type": "code",
   "execution_count": 7,
   "metadata": {},
   "outputs": [
    {
     "name": "stdout",
     "output_type": "stream",
     "text": [
      "(array([1, 2, 7, 9], dtype=int64),)\n"
     ]
    }
   ],
   "source": [
    "y=np.where((a%2)==0)\n",
    "print(y)"
   ]
  },
  {
   "cell_type": "markdown",
   "metadata": {},
   "source": [
    "SearchSort"
   ]
  },
  {
   "cell_type": "code",
   "execution_count": 9,
   "metadata": {},
   "outputs": [
    {
     "name": "stdout",
     "output_type": "stream",
     "text": [
      "[3 4 5 7 8 9]\n",
      "3\n"
     ]
    }
   ],
   "source": [
    "b=np.array([3,4,5,7,8,9])\n",
    "print(b)\n",
    "z=np.searchsorted(b,6)#it will give you the index where should you insert your value inside a sorted array\n",
    "print(z)"
   ]
  },
  {
   "cell_type": "code",
   "execution_count": 10,
   "metadata": {},
   "outputs": [
    {
     "name": "stdout",
     "output_type": "stream",
     "text": [
      "[3 3 4]\n"
     ]
    }
   ],
   "source": [
    "z=np.searchsorted(b,[6,7,8])#we can pass a list of elements also\n",
    "print(z)"
   ]
  },
  {
   "cell_type": "markdown",
   "metadata": {},
   "source": [
    "Sort"
   ]
  },
  {
   "cell_type": "code",
   "execution_count": 12,
   "metadata": {},
   "outputs": [
    {
     "name": "stdout",
     "output_type": "stream",
     "text": [
      "[5 3 7 4 9 6 8]\n",
      "[3 4 5 6 7 8 9]\n"
     ]
    }
   ],
   "source": [
    "c=np.array([5,3,7,4,9,6,8])\n",
    "print(c)\n",
    "print(np.sort(c))#sort is used to sort the array"
   ]
  },
  {
   "cell_type": "code",
   "execution_count": 13,
   "metadata": {},
   "outputs": [
    {
     "name": "stdout",
     "output_type": "stream",
     "text": [
      "['s' 'o' 'u' 'r' 'a' 'v']\n",
      "['a' 'o' 'r' 's' 'u' 'v']\n"
     ]
    }
   ],
   "source": [
    "d=np.array(['s','o','u','r','a','v'])\n",
    "print(d)\n",
    "print(np.sort(d))"
   ]
  },
  {
   "cell_type": "code",
   "execution_count": 14,
   "metadata": {},
   "outputs": [
    {
     "name": "stdout",
     "output_type": "stream",
     "text": [
      "[[1 5 7]\n",
      " [3 4 8]]\n"
     ]
    }
   ],
   "source": [
    "e=np.array([[1,5,7],[4,3,8]])\n",
    "print(np.sort(e))"
   ]
  },
  {
   "cell_type": "markdown",
   "metadata": {},
   "source": [
    "Filter"
   ]
  },
  {
   "cell_type": "code",
   "execution_count": 16,
   "metadata": {},
   "outputs": [
    {
     "name": "stdout",
     "output_type": "stream",
     "text": [
      "['s' 'u' 'v']\n"
     ]
    }
   ],
   "source": [
    "s=[True,False,True,False,False,True]\n",
    "new=d[s]\n",
    "print(new)"
   ]
  }
 ],
 "metadata": {
  "kernelspec": {
   "display_name": "Python 3",
   "language": "python",
   "name": "python3"
  },
  "language_info": {
   "codemirror_mode": {
    "name": "ipython",
    "version": 3
   },
   "file_extension": ".py",
   "mimetype": "text/x-python",
   "name": "python",
   "nbconvert_exporter": "python",
   "pygments_lexer": "ipython3",
   "version": "3.11.1"
  }
 },
 "nbformat": 4,
 "nbformat_minor": 2
}
