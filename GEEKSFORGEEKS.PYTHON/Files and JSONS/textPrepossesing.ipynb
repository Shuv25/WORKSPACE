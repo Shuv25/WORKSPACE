{
 "cells": [
  {
   "cell_type": "code",
   "execution_count": 1,
   "metadata": {},
   "outputs": [],
   "source": [
    "fd=open(\"textPrepossesing.txt\")\n",
    "txt=fd.read()\n",
    "fd.close()"
   ]
  },
  {
   "cell_type": "code",
   "execution_count": 6,
   "metadata": {},
   "outputs": [
    {
     "data": {
      "text/plain": [
       "'Lorem Ipsum is simply dummy text of the printing and typesetting industry. \\nLorem Ipsum has been the industry\\'s standard dummy text ever since the 1500s, \\nwhen an unknown printer took a galley of type and scrambled it to make a type specimen book. \\n\\nIt has survived not only five centuries, but also the leap into electronic typesetting, \\nremaining essentially unchanged. It was popularised in the 1960s with the release of Letraset \\nsheets containing Lorem Ipsum passages, and more recently with desktop publishing software like \\nAldus PageMaker including versions of Lorem Ipsum.\\n\\nContrary to popular belief, Lorem Ipsum is not simply random text. It has roots in a piece of \\nclassical Latin literature from 45 BC, making it over 2000 years old. \\n\\nRichard McClintock, a Latin professor at Hampden-Sydney College in Virginia, looked up one of the\\nmore obscure Latin words, consectetur, from a Lorem Ipsum passage, and going through the cites of \\nthe word in classical literature, discovered the undoubtable source. Lorem Ipsum comes from sections\\n1.10.32 and 1.10.33 of \"de Finibus Bonorum et Malorum\" (The Extremes of Good and Evil) by Cicero, \\nwritten in 45 BC. This book is a treatise on the theory of ethics, very popular during the Renaissance. \\n\\nThe first line of Lorem Ipsum, \"Lorem ipsum dolor sit amet..\", comes from a line in section 1.10.32.'"
      ]
     },
     "execution_count": 6,
     "metadata": {},
     "output_type": "execute_result"
    }
   ],
   "source": [
    "txt"
   ]
  },
  {
   "cell_type": "code",
   "execution_count": 7,
   "metadata": {},
   "outputs": [
    {
     "name": "stdout",
     "output_type": "stream",
     "text": [
      "Lorem Ipsum is simply dummy text of the printing and typesetting industry. \n",
      "Lorem Ipsum has been the industry's standard dummy text ever since the 1500s, \n",
      "when an unknown printer took a galley of type and scrambled it to make a type specimen book. \n",
      "\n",
      "It has survived not only five centuries, but also the leap into electronic typesetting, \n",
      "remaining essentially unchanged. It was popularised in the 1960s with the release of Letraset \n",
      "sheets containing Lorem Ipsum passages, and more recently with desktop publishing software like \n",
      "Aldus PageMaker including versions of Lorem Ipsum.\n",
      "\n",
      "Contrary to popular belief, Lorem Ipsum is not simply random text. It has roots in a piece of \n",
      "classical Latin literature from 45 BC, making it over 2000 years old. \n",
      "\n",
      "Richard McClintock, a Latin professor at Hampden-Sydney College in Virginia, looked up one of the\n",
      "more obscure Latin words, consectetur, from a Lorem Ipsum passage, and going through the cites of \n",
      "the word in classical literature, discovered the undoubtable source. Lorem Ipsum comes from sections\n",
      "1.10.32 and 1.10.33 of \"de Finibus Bonorum et Malorum\" (The Extremes of Good and Evil) by Cicero, \n",
      "written in 45 BC. This book is a treatise on the theory of ethics, very popular during the Renaissance. \n",
      "\n",
      "The first line of Lorem Ipsum, \"Lorem ipsum dolor sit amet..\", comes from a line in section 1.10.32.\n"
     ]
    }
   ],
   "source": [
    "print(txt)"
   ]
  },
  {
   "cell_type": "markdown",
   "metadata": {},
   "source": [
    "To count the no of paragraphs"
   ]
  },
  {
   "cell_type": "code",
   "execution_count": 16,
   "metadata": {},
   "outputs": [
    {
     "data": {
      "text/plain": [
       "5"
      ]
     },
     "execution_count": 16,
     "metadata": {},
     "output_type": "execute_result"
    }
   ],
   "source": [
    "para=txt.split(\"\\n\\n\")\n",
    "len(para)"
   ]
  },
  {
   "cell_type": "markdown",
   "metadata": {},
   "source": [
    "To count the no of lines"
   ]
  },
  {
   "cell_type": "code",
   "execution_count": 18,
   "metadata": {},
   "outputs": [
    {
     "data": {
      "text/plain": [
       "19"
      ]
     },
     "execution_count": 18,
     "metadata": {},
     "output_type": "execute_result"
    }
   ],
   "source": [
    "line=txt.split(\".\")\n",
    "len(line)"
   ]
  },
  {
   "cell_type": "markdown",
   "metadata": {},
   "source": [
    "To count the words"
   ]
  },
  {
   "cell_type": "code",
   "execution_count": 19,
   "metadata": {},
   "outputs": [
    {
     "data": {
      "text/plain": [
       "217"
      ]
     },
     "execution_count": 19,
     "metadata": {},
     "output_type": "execute_result"
    }
   ],
   "source": [
    "word=txt.split(\" \")\n",
    "len(word)"
   ]
  }
 ],
 "metadata": {
  "interpreter": {
   "hash": "63963b3f4c440940f0b94a3100916033a226cb4f45979123153792d60aa56d6a"
  },
  "kernelspec": {
   "display_name": "Python 3.10.4 64-bit",
   "language": "python",
   "name": "python3"
  },
  "language_info": {
   "codemirror_mode": {
    "name": "ipython",
    "version": 3
   },
   "file_extension": ".py",
   "mimetype": "text/x-python",
   "name": "python",
   "nbconvert_exporter": "python",
   "pygments_lexer": "ipython3",
   "version": "3.10.4"
  },
  "orig_nbformat": 4
 },
 "nbformat": 4,
 "nbformat_minor": 2
}
