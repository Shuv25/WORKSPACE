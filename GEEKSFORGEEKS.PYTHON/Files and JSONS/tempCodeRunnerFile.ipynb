fd=open("json1.txt")
txt=fd.read()
fd.close()