{
 "cells": [
  {
   "cell_type": "code",
   "execution_count": 1,
   "metadata": {},
   "outputs": [],
   "source": [
    "fd=open(\"corpus.txt\")\n",
    "txt=fd.read()\n",
    "fd.close()"
   ]
  },
  {
   "cell_type": "code",
   "execution_count": 23,
   "metadata": {},
   "outputs": [
    {
     "data": {
      "text/plain": [
       "'efkcbf.kvbvfhfcg.kfvhbuef.gvbwfjacbf.hlvuow;fvhefvbhwkfndvblfygvwe;lrvhekcb.avbhfgvwiurv\\nekdcglrfgbeliruekbkjfbadilvhqioernckjdbvcuywegrfcijhqlrhdnckjbcegfvo;querjflwhfurgfiuerhferjfn\\n\\ncfgwqlfrg;fhrefbfugfiryorufh3uofhbuigfiurfbe3fgrirtfirurhfirfy34ifyh3rhfuirfirufuirfurfhiuerfgirgfg\\nrqfhglwehbdgflweqrfgerlqicfbeqfgoiqfuh3quilefgqrifvuyepiufg;kwefjeriutfgleukrfheriuyfihrfrhfriu\\n\\newjfdqwlejfbqwerklufyriqugfwq;krfhirutferfhbqrkugfi7ryfruhfiuretfiprhfurgfiqurhfiuqreyfiuqrfkuq\\nfrgqwelfgw;khfeiueryforeiherfgqwerytfoiyhf;uefiegroihfoiherfvkbehgvprejvhervbeviehvevipegvh'"
      ]
     },
     "execution_count": 23,
     "metadata": {},
     "output_type": "execute_result"
    }
   ],
   "source": [
    "txt"
   ]
  },
  {
   "cell_type": "code",
   "execution_count": 24,
   "metadata": {},
   "outputs": [
    {
     "name": "stdout",
     "output_type": "stream",
     "text": [
      "efkcbf.kvbvfhfcg.kfvhbuef.gvbwfjacbf.hlvuow;fvhefvbhwkfndvblfygvwe;lrvhekcb.avbhfgvwiurv\n",
      "ekdcglrfgbeliruekbkjfbadilvhqioernckjdbvcuywegrfcijhqlrhdnckjbcegfvo;querjflwhfurgfiuerhferjfn\n",
      "\n",
      "cfgwqlfrg;fhrefbfugfiryorufh3uofhbuigfiurfbe3fgrirtfirurhfirfy34ifyh3rhfuirfirufuirfurfhiuerfgirgfg\n",
      "rqfhglwehbdgflweqrfgerlqicfbeqfgoiqfuh3quilefgqrifvuyepiufg;kwefjeriutfgleukrfheriuyfihrfrhfriu\n",
      "\n",
      "ewjfdqwlejfbqwerklufyriqugfwq;krfhirutferfhbqrkugfi7ryfruhfiuretfiprhfurgfiqurhfiuqreyfiuqrfkuq\n",
      "frgqwelfgw;khfeiueryforeiherfgqwerytfoiyhf;uefiegroihfoiherfvkbehgvprejvhervbeviehvevipegvh\n"
     ]
    }
   ],
   "source": [
    "print(txt)"
   ]
  },
  {
   "cell_type": "code",
   "execution_count": 25,
   "metadata": {},
   "outputs": [
    {
     "data": {
      "text/plain": [
       "'efkcbf.kvbvfhfcg.kfvhbuef.gvbwfjacbf.hlvuow;fvhefvbhwkfndvblfygvwe;lrvhekcb.avbhfgvwiurv\\nekdcglrfgbeliruekbkjfbadilvhqioernckjdbvcuywegrfcijhqlrhdnckjbcegfvo;querjflwhfurgfiuerhferjfn cfgwqlfrg;fhrefbfugfiryorufh3uofhbuigfiurfbe3fgrirtfirurhfirfy34ifyh3rhfuirfirufuirfurfhiuerfgirgfg\\nrqfhglwehbdgflweqrfgerlqicfbeqfgoiqfuh3quilefgqrifvuyepiufg;kwefjeriutfgleukrfheriuyfihrfrhfriu ewjfdqwlejfbqwerklufyriqugfwq;krfhirutferfhbqrkugfi7ryfruhfiuretfiprhfurgfiqurhfiuqreyfiuqrfkuq\\nfrgqwelfgw;khfeiueryforeiherfgqwerytfoiyhf;uefiegroihfoiherfvkbehgvprejvhervbeviehvevipegvh'"
      ]
     },
     "execution_count": 25,
     "metadata": {},
     "output_type": "execute_result"
    }
   ],
   "source": [
    "txt.replace(\"\\n\\n\",\" \")"
   ]
  }
 ],
 "metadata": {
  "interpreter": {
   "hash": "63963b3f4c440940f0b94a3100916033a226cb4f45979123153792d60aa56d6a"
  },
  "kernelspec": {
   "display_name": "Python 3.10.4 64-bit",
   "language": "python",
   "name": "python3"
  },
  "language_info": {
   "codemirror_mode": {
    "name": "ipython",
    "version": 3
   },
   "file_extension": ".py",
   "mimetype": "text/x-python",
   "name": "python",
   "nbconvert_exporter": "python",
   "pygments_lexer": "ipython3",
   "version": "3.10.4"
  },
  "orig_nbformat": 4
 },
 "nbformat": 4,
 "nbformat_minor": 2
}
