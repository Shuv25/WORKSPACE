{
 "cells": [
  {
   "cell_type": "code",
   "execution_count": 18,
   "metadata": {},
   "outputs": [],
   "source": [
    "fd=open(\"IMwrite2.txt\",\"w\")\n",
    "fd.close()"
   ]
  },
  {
   "cell_type": "markdown",
   "metadata": {},
   "source": [
    "item-id,item-name,item-price,item-quaantity"
   ]
  },
  {
   "cell_type": "code",
   "execution_count": 28,
   "metadata": {},
   "outputs": [],
   "source": [
    "fd=open(\"IMwrite2.txt\")\n",
    "products=fd.read().split(\"\\n\")\n",
    "fd.close()"
   ]
  },
  {
   "cell_type": "code",
   "execution_count": 29,
   "metadata": {},
   "outputs": [
    {
     "name": "stdout",
     "output_type": "stream",
     "text": [
      "1,a,10,100\n",
      "2,b,20,200\n",
      "3,c,30,300\n",
      "4,d,40,400\n"
     ]
    }
   ],
   "source": [
    "for product in products:\n",
    "    print(product)"
   ]
  },
  {
   "cell_type": "code",
   "execution_count": 32,
   "metadata": {},
   "outputs": [
    {
     "name": "stdout",
     "output_type": "stream",
     "text": [
      "---------------------------------------------------\n",
      "Name of the product     : b\n",
      "Price of the product      : 20\n",
      "Quantity of the product:  5\n",
      "---------------------------------------------------\n",
      "Billing amount              : 100\n",
      "----------------------------------------------------\n"
     ]
    }
   ],
   "source": [
    "itemid=input(\"Enter the product id\")\n",
    "itemQuantity=input(\"Enter the quantity of your purchase:\")\n",
    "for product in products:\n",
    "    productDetails=product.split(\",\")\n",
    "    if productDetails[0]==itemid:\n",
    "        print(\"---------------------------------------------------\")\n",
    "        print(\"Name of the product     :\",productDetails[1])\n",
    "        print(\"Price of the product      :\",productDetails[2])\n",
    "        print(\"Quantity of the product: \",itemQuantity)\n",
    "        print(\"---------------------------------------------------\")\n",
    "        print(\"Billing amount              :\",int(itemQuantity)*int(productDetails[2]))\n",
    "        print(\"----------------------------------------------------\")"
   ]
  }
 ],
 "metadata": {
  "interpreter": {
   "hash": "63963b3f4c440940f0b94a3100916033a226cb4f45979123153792d60aa56d6a"
  },
  "kernelspec": {
   "display_name": "Python 3.10.4 64-bit",
   "language": "python",
   "name": "python3"
  },
  "language_info": {
   "codemirror_mode": {
    "name": "ipython",
    "version": 3
   },
   "file_extension": ".py",
   "mimetype": "text/x-python",
   "name": "python",
   "nbconvert_exporter": "python",
   "pygments_lexer": "ipython3",
   "version": "3.10.4"
  },
  "orig_nbformat": 4
 },
 "nbformat": 4,
 "nbformat_minor": 2
}
