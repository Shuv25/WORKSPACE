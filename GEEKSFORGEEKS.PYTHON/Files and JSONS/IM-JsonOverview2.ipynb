{
 "cells": [
  {
   "cell_type": "code",
   "execution_count": 16,
   "metadata": {},
   "outputs": [
    {
     "name": "stdout",
     "output_type": "stream",
     "text": [
      "------------------Products-----------------\n",
      "\n",
      "1 : Hp | 50000 | 20\n",
      "2 : Dell | 75000 | 0\n",
      "3 : Samsung | 100000 | 20\n",
      "4 : Mac | 100000 | 13\n",
      "----------------------------------------------\n",
      "\n",
      "We don't have 25 Samsung\n",
      "We only have 20\n",
      "Would you like to buy 20\n",
      "-------------------------------------------------\n",
      "                             Bill                              \n",
      "Name                           : Samsung\n",
      "Price                            : 100000 Rs\n",
      "Qunatity                       : 20\n",
      "-------------------------------------------------\n",
      "Billing Amount            : 2000000 Rs\n",
      "Thank you for purchase, visit again\n"
     ]
    }
   ],
   "source": [
    "import time\n",
    "import json\n",
    "fd=open(\"Records.json\")\n",
    "js=fd.read()\n",
    "fd.close()\n",
    "record=json.loads(js)\n",
    "print(\"------------------Products-----------------\\n\")\n",
    "for key in record.keys():\n",
    "    print(key,\":\",record[key][\"Name\"],\"|\",record[key][\"Price\"],\"|\",record[key][\"Quantity\"])\n",
    "print(\"----------------------------------------------\\n\")\n",
    "User_name=input(\"Enter your name:\")\n",
    "User_Phone=input(\"Enter your phone no:\")\n",
    "User_Mail=input(\"Enter your mail:\")\n",
    "productID=str(input(\"Enter the product id you want to buy:\"))\n",
    "productQuantity=int(input(\"Enter the quantity of your purchase:\"))\n",
    "if(record[productID][\"Quantity\"]=='0'):\n",
    "    print(\"Sorry, we are out of stock of\",record[productID][\"Name\"])\n",
    "elif productQuantity<=record[productID][\"Quantity\"]:\n",
    "    print(\"-------------------------------------------------\")\n",
    "    print(\"                             Bill                              \")\n",
    "    print(\"Name                           :\",record[productID][\"Name\"])\n",
    "    print(\"Price                            :\",record[productID][\"Price\"],\"Rs\")\n",
    "    print(\"Qunatity                       :\",productQuantity)\n",
    "    print(\"-------------------------------------------------\")\n",
    "    print(\"Billing Amount            :\",productQuantity*record[productID][\"Price\"],\"Rs\")\n",
    "    record[productID][\"Quantity\"]=record[productID][\"Quantity\"]-productQuantity\n",
    "    fd=open(\"SalesDic.txt\",\"a\")\n",
    "    sales_details=\"Name:\"+User_name+\", \"+\"Phone No:\"+User_Phone+\", \"+\"Mail Id:\"+User_Mail+\", \"+\"Product Id:\"+productID+\", \"+\"Product Name:\"+record[productID][\"Name\"]+\", \"+\"Product Quantity:\"+str(productQuantity)+\", \"+\"Total Price:\"+str(productQuantity*record[productID][\"Price\"])+\" Rs\"+\", \"+\"Date and Time:\"+time.ctime()+\"\\n\"\n",
    "    fd.write(sales_details)\n",
    "    fd.close()\n",
    "else:\n",
    "    print(\"We don't have\",productQuantity,record[productID][\"Name\"])\n",
    "    print(\"We only have\",record[productID][\"Quantity\"])\n",
    "    print(\"Would you like to buy\",record[productID][\"Quantity\"])\n",
    "    ch=input(\"Press Y/N\")\n",
    "    if (ch==\"Y\" or ch==\"y\"):\n",
    "        print(\"-------------------------------------------------\")\n",
    "        print(\"                             Bill                              \")\n",
    "        print(\"Name                           :\",record[productID][\"Name\"])\n",
    "        print(\"Price                            :\",record[productID][\"Price\"],\"Rs\")\n",
    "        print(\"Qunatity                       :\",record[productID][\"Quantity\"])\n",
    "        print(\"-------------------------------------------------\")\n",
    "        print(\"Billing Amount            :\",record[productID][\"Quantity\"]*record[productID][\"Price\"],\"Rs\")\n",
    "        fd=open(\"SalesDic.txt\",\"a\")\n",
    "        sales_details=\"Name:\"+User_name+\", \"+\"Phone No:\"+User_Phone+\", \"+\"Mail Id:\"+User_Mail+\", \"+\"Product Id:\"+productID+\", \"+\"Product Name:\"+record[productID][\"Name\"]+\", \"+\"Product Quantity:\"+str(record[productID][\"Quantity\"])+\", \"+\"Total Price:\"+str(record[productID][\"Quantity\"]*record[productID][\"Price\"])+\" Rs\"+\", \"+\"Date and Time:\"+time.ctime()+\"\\n\"\n",
    "        fd.write(sales_details)\n",
    "        fd.close()\n",
    "        record[productID][\"Quantity\"]='0'\n",
    "        print('Thank you for purchase, visit again')\n",
    "    if (ch==\"N\" or ch==\"n\"):\n",
    "        print(\"Thank you, visit again\")\n",
    "js=json.dumps(record)\n",
    "fd=open(\"Records.json\",'w')\n",
    "fd.write(js)\n",
    "fd.close()"
   ]
  },
  {
   "cell_type": "code",
   "execution_count": null,
   "metadata": {},
   "outputs": [],
   "source": []
  }
 ],
 "metadata": {
  "kernelspec": {
   "display_name": "Python 3",
   "language": "python",
   "name": "python3"
  },
  "language_info": {
   "codemirror_mode": {
    "name": "ipython",
    "version": 3
   },
   "file_extension": ".py",
   "mimetype": "text/x-python",
   "name": "python",
   "nbconvert_exporter": "python",
   "pygments_lexer": "ipython3",
   "version": "3.11.1 (tags/v3.11.1:a7a450f, Dec  6 2022, 19:58:39) [MSC v.1934 64 bit (AMD64)]"
  },
  "orig_nbformat": 4,
  "vscode": {
   "interpreter": {
    "hash": "b98f472bb8ba48098397e3b897b5be76f7bf0e62d98845cdb0e8066dc5677259"
   }
  }
 },
 "nbformat": 4,
 "nbformat_minor": 2
}
