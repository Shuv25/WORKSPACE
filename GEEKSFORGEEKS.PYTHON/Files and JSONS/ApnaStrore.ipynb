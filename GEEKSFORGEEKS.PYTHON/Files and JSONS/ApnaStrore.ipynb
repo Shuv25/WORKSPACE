{
 "cells": [
  {
   "cell_type": "code",
   "execution_count": 10,
   "metadata": {},
   "outputs": [],
   "source": [
    "fd=open(\"store.txt\",\"w\")\n",
    "fd.close()"
   ]
  },
  {
   "cell_type": "code",
   "execution_count": 19,
   "metadata": {},
   "outputs": [
    {
     "name": "stdout",
     "output_type": "stream",
     "text": [
      "1,Laptop,50000,20\n",
      "2,Mobile,15000,20\n",
      "3,Battery,5000,20\n",
      "4,Keybord,1000,20\n",
      "--------------------------------------------\n",
      "Product name                      : Battery\n",
      "Product price                       : 5000 Rs\n",
      "Product quantity                  : 5\n",
      "---------------------------------------------\n",
      "Billing amount                     : 25000 Rs\n",
      "----------------------------------------------\n",
      "Thank you for the purchase,visit again\n"
     ]
    }
   ],
   "source": [
    "import time\n",
    "fd=open(\"store.txt\")\n",
    "products=fd.read().split(\"\\n\")\n",
    "fd.close()\n",
    "\n",
    "for product in products:\n",
    "    print(product)\n",
    "userName=input(\"Your name:\")\n",
    "userPhNo=input(\"Your phone number:\")\n",
    "userMail=input(\"Your mail:\")\n",
    "productId=input(\"Enter the product ID you want to purchase:\")\n",
    "productQuantity=input(\"Entert he quantity of the product:\")\n",
    "Updated=[]\n",
    "for product in products:\n",
    "    productDetails=product.split(\",\")\n",
    "    if productDetails[0]==productId:\n",
    "        if int(productQuantity)<=int(productDetails[3]):\n",
    "            print(\"--------------------------------------------\")\n",
    "            print(\"Product name                      :\",productDetails[1])\n",
    "            print(\"Product price                       :\",productDetails[2],\"Rs\")\n",
    "            print(\"Product quantity                  :\",productQuantity)\n",
    "            print(\"---------------------------------------------\")\n",
    "            print(\"Billing amount                     :\",int(productDetails[2])*int(productQuantity),\"Rs\")\n",
    "            print(\"----------------------------------------------\")\n",
    "            print(\"Thank you for the purchase,visit again\")\n",
    "            productDetails[3]=str(int(productDetails[3])-int(productQuantity))\n",
    "            fd=open(\"storesales.txt\",\"a\")\n",
    "            sales=\"Customer name:\"+userName+\",\"+\"Phone No:\"+userPhNo+\",\"+\"Mail:\"+userMail+\",\"+\"Product ID:\"+productId+\",\"+\"Product Name:\"+productDetails[1]+\",\"+\"Product Quantity:\"+productQuantity+\",\"+\"Total price:\"+str(int(productDetails[2])*int(productQuantity))+\",\"+\"Date and Time:\"+time.ctime()+\"\\n\"\n",
    "            fd.write(sales)\n",
    "            fd.close()\n",
    "        else:\n",
    "            print(\"We dont have\",productQuantity,productDetails[1])\n",
    "            print(\"Would you like to purchase\",productDetails[3],productDetails[1])\n",
    "            ch=input(\"Press Y/N-\")\n",
    "            if(ch=='Y' or ch=='y'):\n",
    "                print(\"--------------------------------------------\")\n",
    "                print(\"Product name                      :\",productDetails[1])\n",
    "                print(\"Product price                       :\",productDetails[2])\n",
    "                print(\"Product quantity                  :\",productQuantity)\n",
    "                print(\"---------------------------------------------\")\n",
    "                print(\"Billing amount                     :\",int(productDetails[2])*int(productDetails[3]))\n",
    "                print(\"----------------------------------------------\")\n",
    "                print(\"Thank you for the purchase,visit again\")\n",
    "                fd=open(\"storesales.txt\",\"a\")\n",
    "                sales=\"Customer name:\"+userName+\",\"+\"Phone No:\"+userPhNo+\",\"+\"Mail:\"+userMail+\",\"+\"Product ID:\"+productId+\",\"+\"Product Name:\"+productDetails[1]+\",\"+\"Product Quantity\"+productQuantity+\",\"+\"Total price:\"+str(int(productDetails[2])*int(productDetails[3]))+\"Date and Time:\"+time.ctime()+\"\\n\"\n",
    "                fd.write(sales)\n",
    "                fd.close()\n",
    "                productDetails[3]='0'\n",
    "            if(ch=='N' or ch=='n'):\n",
    "                print(\"Thank you visit again\")\n",
    "    Updated.append(productDetails)\n",
    "\n",
    "    l=[]\n",
    "    for i in Updated:\n",
    "        product=i[0]+\",\"+i[1]+\",\"+i[2]+\",\"+i[3]+\"\\n\"\n",
    "        l.append(product)\n",
    "    \n",
    "    l[-1]=l[-1][:-1]\n",
    "    \n",
    "    fd=open(\"store.txt\",\"w\")\n",
    "    for i in l:\n",
    "        fd.write(i)\n",
    "    \n",
    "    fd.close()\n"
   ]
  },
  {
   "cell_type": "code",
   "execution_count": null,
   "metadata": {},
   "outputs": [],
   "source": [
    "\n"
   ]
  }
 ],
 "metadata": {
  "interpreter": {
   "hash": "63963b3f4c440940f0b94a3100916033a226cb4f45979123153792d60aa56d6a"
  },
  "kernelspec": {
   "display_name": "Python 3.10.4 64-bit",
   "language": "python",
   "name": "python3"
  },
  "language_info": {
   "codemirror_mode": {
    "name": "ipython",
    "version": 3
   },
   "file_extension": ".py",
   "mimetype": "text/x-python",
   "name": "python",
   "nbconvert_exporter": "python",
   "pygments_lexer": "ipython3",
   "version": "3.10.4"
  },
  "orig_nbformat": 4
 },
 "nbformat": 4,
 "nbformat_minor": 2
}
